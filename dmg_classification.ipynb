{
 "cells": [
  {
   "cell_type": "code",
   "execution_count": 36,
   "id": "3a28663d-9266-43e8-8546-7a1accf93ad0",
   "metadata": {},
   "outputs": [],
   "source": [
    "import pandas as pd\n",
    "import numpy as np\n",
    "import pickle\n",
    "\n",
    "from pathlib import Path\n",
    "from PIL import Image\n",
    "from tqdm import tqdm"
   ]
  },
  {
   "cell_type": "code",
   "execution_count": 27,
   "id": "60283d86-6022-4ebe-b02d-d89c2f1ae68d",
   "metadata": {},
   "outputs": [],
   "source": [
    "pd.options.display.max_columns=100\n",
    "pd.options.display.max_rows=100"
   ]
  },
  {
   "cell_type": "code",
   "execution_count": 2,
   "id": "fb7a3fae-66e4-414c-b10d-dd41f003abcd",
   "metadata": {},
   "outputs": [],
   "source": [
    "dic = pd.read_pickle(\"\")"
   ]
  },
  {
   "cell_type": "code",
   "execution_count": 9,
   "id": "2a0c0801-01f3-40a2-a069-41c073d24c3a",
   "metadata": {},
   "outputs": [],
   "source": [
    "dic_t = pd.read_pickle(\"\")"
   ]
  },
  {
   "cell_type": "code",
   "execution_count": 114,
   "id": "0aec4f50-a485-4658-9b59-08fedff9245b",
   "metadata": {},
   "outputs": [
    {
     "name": "stdout",
     "output_type": "stream",
     "text": [
      "|KEY                           |SIZE      |OK        |REPAIR    |EXCHANGE  |% OK      |% REPAIR  |% EXCHANGE|\n",
      "|------------------------------|----------|----------|----------|----------|----------|----------|----------|\n",
      "|frontview_fender              |    183197|     90194|     40091|     52732|0.4923    |0.2188    |0.2878    |\n",
      "|frontview_front_bumper_center |     29253|     10418|      1266|     16938|0.3561    |0.0433    |0.5790    |\n",
      "|frontview_front_bumper_side   |    231914|     90944|     21216|    119513|0.3921    |0.0915    |0.5153    |\n",
      "|frontview_front_door          |    142770|     92743|     25412|     24529|0.6496    |0.1780    |0.1718    |\n",
      "|frontview_headlight_center    |     48288|     24928|       105|     23123|0.5162    |0.0022    |0.4789    |\n",
      "|frontview_headlight_side      |    162425|     95206|       573|     66304|0.5862    |0.0035    |0.4082    |\n",
      "|frontview_hood_center         |     26077|     12027|      4095|      9466|0.4612    |0.1570    |0.3630    |\n",
      "|frontview_hood_side           |    181464|    105060|     20310|     54969|0.5790    |0.1119    |0.3029    |\n",
      "|frontview_mirror              |     98386|     91504|       130|      6727|0.9301    |0.0013    |0.0684    |\n",
      "|frontview_windshield          |    111930|    107201|         0|      4722|0.9578    |0.0000    |0.0422    |\n",
      "|rearview_rear_bumper_center   |     34512|     13081|      2838|     17599|0.3790    |0.0822    |0.5099    |\n",
      "|rearview_rear_bumper_side     |    198644|     93650|     19867|     83280|0.4714    |0.1000    |0.4192    |\n",
      "|rearview_rear_door            |    117284|     85863|     13102|     17684|0.7321    |0.1117    |0.1508    |\n",
      "|rearview_rear_side_bumper_side|     12763|     11481|       459|       759|0.8996    |0.0360    |0.0595    |\n",
      "|rearview_rear_window          |    105890|     99151|         0|      6738|0.9364    |0.0000    |0.0636    |\n",
      "|rearview_side_panel           |    148526|     91365|     45571|     11533|0.6151    |0.3068    |0.0776    |\n",
      "|rearview_taillight            |    218919|    187134|       114|     31130|0.8548    |0.0005    |0.1422    |\n",
      "|rearview_trunk_lid_center     |     30119|     10917|      5402|     13457|0.3625    |0.1794    |0.4468    |\n",
      "|rearview_trunk_lid_side       |    152503|     78171|     21037|     52696|0.5126    |0.1379    |0.3455    |\n",
      "|sideview_fender               |     16864|     12490|      1273|      3069|0.7406    |0.0755    |0.1820    |\n",
      "|sideview_front_bumper         |      3716|      3028|       151|       524|0.8149    |0.0406    |0.1410    |\n",
      "|sideview_front_door_center    |     19964|     12677|      1228|      5676|0.6350    |0.0615    |0.2843    |\n",
      "|sideview_headlight            |      3629|      3279|         1|       349|0.9036    |0.0003    |0.0962    |\n",
      "|sideview_hood                 |       373|       319|        20|        19|0.8552    |0.0536    |0.0509    |\n",
      "|sideview_mirror_center        |     18085|     16748|        24|      1274|0.9261    |0.0013    |0.0704    |\n",
      "|sideview_rear_door_center     |     23112|     16200|      1340|      5182|0.7009    |0.0580    |0.2242    |\n",
      "|sideview_side_panel           |     23516|     16169|      5235|      1969|0.6876    |0.2226    |0.0837    |\n"
     ]
    }
   ],
   "source": [
    "print(\"|{0:30}|{1:10}|{2:10}|{3:10}|{4:10}|{5:10}|{6:10}|{7:10}|\".format(\"KEY\",\"SIZE\",\"OK\",\"REPAIR\",\"EXCHANGE\",\"% OK\",\"% REPAIR\", \"% EXCHANGE\"))\n",
    "print(\"|{0:30}|{1:10}|{2:10}|{3:10}|{4:10}|{5:10}|{6:10}|{7:10}|\".format(\"------------------------------\",\"----------\",\"----------\",\"----------\",\"----------\",\"----------\",\"----------\",\"----------\"))\n",
    "\n",
    "for key in dic_t.keys():\n",
    "    \n",
    "    # print(\"Rows: \" , dic_t[key].shape[0], \"\\tPart: \", key, \"\\t\\tOK:\" ,(dic_t[key].final_damage==\"OK\").sum(), \"\\tREPAIR:\", (dic_t[key].final_damage==\"REPAIR\").sum(), \"\\tEXCHANGE:\", (dic_t[key].final_damage==\"EXCHANGE\").sum())\n",
    "     print(\"|{0:30}|{1:10}|{2:10}|{3:10}|{4:10}|{5:10}|{6:10}|{7:10}|\".format(\n",
    "    # print(\"{0:3},{1:1},{2:1},{3:1},{4:1},{5:1},{6:1},{7:1}\".format(\n",
    "        key,dic_t[key].shape[0],\n",
    "        (dic_t[key].final_damage==\"OK\").sum(),\n",
    "        (dic_t[key].final_damage==\"REPAIR\").sum(),\n",
    "        (dic_t[key].final_damage==\"EXCHANGE\").sum(),\n",
    "        '{:.4f}'.format((dic_t[key].final_damage==\"OK\").sum()/dic_t[key].shape[0]),\n",
    "        '{:.4f}'.format((dic_t[key].final_damage==\"REPAIR\").sum()/dic_t[key].shape[0]),\n",
    "        '{:.4f}'.format((dic_t[key].final_damage==\"EXCHANGE\").sum()/dic_t[key].shape[0])\n",
    "        )         \n",
    "    )\n",
    "    # print(\"|{0:30}|{1:10}|{2:10}|{3:10}|{4:10}|{5:10}|{6:10}|{7:10}|\".format(\"------------------------------\",\"---------\",\"----------\",\"----------\",\"----------\",\"----------\",\"----------\",\"----------\"))\n",
    "    # print(key)"
   ]
  },
  {
   "cell_type": "code",
   "execution_count": 3,
   "id": "8337585b-d7b8-41aa-8666-b5d1736d34e5",
   "metadata": {
    "tags": []
   },
   "outputs": [
    {
     "ename": "NameError",
     "evalue": "name 'dic' is not defined",
     "output_type": "error",
     "traceback": [
      "\u001b[0;31m---------------------------------------------------------------------------\u001b[0m",
      "\u001b[0;31mNameError\u001b[0m                                 Traceback (most recent call last)",
      "Input \u001b[0;32mIn [3]\u001b[0m, in \u001b[0;36m<cell line: 1>\u001b[0;34m()\u001b[0m\n\u001b[1;32m      1\u001b[0m \u001b[38;5;28;01mwith\u001b[39;00m \u001b[38;5;28mopen\u001b[39m(\u001b[38;5;124m\"\u001b[39m\u001b[38;5;124m../csvs/models_clab2_corrected_paths.pkl\u001b[39m\u001b[38;5;124m\"\u001b[39m, \u001b[38;5;124m\"\u001b[39m\u001b[38;5;124mwb\u001b[39m\u001b[38;5;124m\"\u001b[39m) \u001b[38;5;28;01mas\u001b[39;00m file:\n\u001b[0;32m----> 2\u001b[0m     pickle\u001b[38;5;241m.\u001b[39mdump(\u001b[43mdic\u001b[49m, file, pickle\u001b[38;5;241m.\u001b[39mHIGHEST_PROTOCOL)\n",
      "\u001b[0;31mNameError\u001b[0m: name 'dic' is not defined"
     ]
    }
   ],
   "source": [
    "with open(\"../csvs/models_clab2_corrected_paths.pkl\", \"wb\") as file:\n",
    "    pickle.dump(dic, file, pickle.HIGHEST_PROTOCOL)"
   ]
  },
  {
   "cell_type": "code",
   "execution_count": 12,
   "id": "a39c6d5c-422e-4d25-8bb0-6cef5a41df28",
   "metadata": {},
   "outputs": [
    {
     "data": {
      "text/plain": [
       "train    13182\n",
       "test      7056\n",
       "val       3278\n",
       "Name: split, dtype: int64"
      ]
     },
     "execution_count": 12,
     "metadata": {},
     "output_type": "execute_result"
    }
   ],
   "source": [
    "df_count = pd.DataFrame(dic_t[key])\n",
    "df_count.loc[df_count.split == 'train',['split']] = np.random.choice(['train', 'val'], size=df_count.loc[df_count.split == 'train'].shape[0], p=[.8, .2])\n",
    "df_count.split.value_counts()"
   ]
  },
  {
   "cell_type": "code",
   "execution_count": 26,
   "id": "82082a38-a50b-499b-b0a1-68dbf0e147dc",
   "metadata": {},
   "outputs": [
    {
     "data": {
      "text/plain": [
       "OK          16169\n",
       "REPAIR       5235\n",
       "EXCHANGE     1969\n",
       "Name: final_damage, dtype: int64"
      ]
     },
     "execution_count": 26,
     "metadata": {},
     "output_type": "execute_result"
    }
   ],
   "source": [
    "df_count.final_damage.value_counts()"
   ]
  },
  {
   "cell_type": "code",
   "execution_count": 17,
   "id": "c57adf3d-7e9c-4cc2-91f7-3cbd83f3d9e1",
   "metadata": {},
   "outputs": [
    {
     "data": {
      "text/plain": [
       "OK          0.691781\n",
       "REPAIR      0.223976\n",
       "EXCHANGE    0.084243\n",
       "Name: final_damage, dtype: float64"
      ]
     },
     "execution_count": 17,
     "metadata": {},
     "output_type": "execute_result"
    }
   ],
   "source": [
    "df_count.final_damage.value_counts(normalize=True)"
   ]
  },
  {
   "cell_type": "code",
   "execution_count": 6,
   "id": "c9c98832-394f-47d4-b7f8-774c5d6b1543",
   "metadata": {
    "tags": []
   },
   "outputs": [
    {
     "name": "stderr",
     "output_type": "stream",
     "text": [
      "  4%|██████▍                                                                                                                                                                        | 1/27 [00:01<00:37,  1.45s/it]"
     ]
    },
    {
     "name": "stdout",
     "output_type": "stream",
     "text": [
      "frontview_fender\n"
     ]
    },
    {
     "name": "stderr",
     "output_type": "stream",
     "text": [
      "  7%|████████████▉                                                                                                                                                                  | 2/27 [00:01<00:18,  1.35it/s]"
     ]
    },
    {
     "name": "stdout",
     "output_type": "stream",
     "text": [
      "frontview_front_bumper_center\n"
     ]
    },
    {
     "name": "stderr",
     "output_type": "stream",
     "text": [
      " 11%|███████████████████▍                                                                                                                                                           | 3/27 [00:03<00:29,  1.25s/it]"
     ]
    },
    {
     "name": "stdout",
     "output_type": "stream",
     "text": [
      "frontview_front_bumper_side\n"
     ]
    },
    {
     "name": "stderr",
     "output_type": "stream",
     "text": [
      " 15%|█████████████████████████▉                                                                                                                                                     | 4/27 [00:04<00:27,  1.20s/it]"
     ]
    },
    {
     "name": "stdout",
     "output_type": "stream",
     "text": [
      "frontview_front_door\n"
     ]
    },
    {
     "name": "stderr",
     "output_type": "stream",
     "text": [
      " 19%|████████████████████████████████▍                                                                                                                                              | 5/27 [00:05<00:19,  1.11it/s]"
     ]
    },
    {
     "name": "stdout",
     "output_type": "stream",
     "text": [
      "frontview_headlight_center\n"
     ]
    },
    {
     "name": "stderr",
     "output_type": "stream",
     "text": [
      " 22%|██████████████████████████████████████▉                                                                                                                                        | 6/27 [00:06<00:21,  1.02s/it]"
     ]
    },
    {
     "name": "stdout",
     "output_type": "stream",
     "text": [
      "frontview_headlight_side\n"
     ]
    },
    {
     "name": "stderr",
     "output_type": "stream",
     "text": [
      " 26%|█████████████████████████████████████████████▎                                                                                                                                 | 7/27 [00:06<00:15,  1.33it/s]"
     ]
    },
    {
     "name": "stdout",
     "output_type": "stream",
     "text": [
      "frontview_hood_center\n"
     ]
    },
    {
     "name": "stderr",
     "output_type": "stream",
     "text": [
      " 30%|███████████████████████████████████████████████████▊                                                                                                                           | 8/27 [00:07<00:18,  1.05it/s]"
     ]
    },
    {
     "name": "stdout",
     "output_type": "stream",
     "text": [
      "frontview_hood_side\n"
     ]
    },
    {
     "name": "stderr",
     "output_type": "stream",
     "text": [
      " 33%|██████████████████████████████████████████████████████████▎                                                                                                                    | 9/27 [00:08<00:15,  1.14it/s]"
     ]
    },
    {
     "name": "stdout",
     "output_type": "stream",
     "text": [
      "frontview_mirror\n"
     ]
    },
    {
     "name": "stderr",
     "output_type": "stream",
     "text": [
      " 37%|████████████████████████████████████████████████████████████████▍                                                                                                             | 10/27 [00:09<00:14,  1.18it/s]"
     ]
    },
    {
     "name": "stdout",
     "output_type": "stream",
     "text": [
      "frontview_windshield\n"
     ]
    },
    {
     "name": "stderr",
     "output_type": "stream",
     "text": [
      " 41%|██████████████████████████████████████████████████████████████████████▉                                                                                                       | 11/27 [00:09<00:10,  1.49it/s]"
     ]
    },
    {
     "name": "stdout",
     "output_type": "stream",
     "text": [
      "rearview_rear_bumper_center\n"
     ]
    },
    {
     "name": "stderr",
     "output_type": "stream",
     "text": [
      " 44%|█████████████████████████████████████████████████████████████████████████████▎                                                                                                | 12/27 [00:11<00:14,  1.06it/s]"
     ]
    },
    {
     "name": "stdout",
     "output_type": "stream",
     "text": [
      "rearview_rear_bumper_side\n"
     ]
    },
    {
     "name": "stderr",
     "output_type": "stream",
     "text": [
      " 52%|██████████████████████████████████████████████████████████████████████████████████████████▏                                                                                   | 14/27 [00:12<00:08,  1.48it/s]"
     ]
    },
    {
     "name": "stdout",
     "output_type": "stream",
     "text": [
      "rearview_rear_door\n",
      "rearview_rear_side_bumper_side\n"
     ]
    },
    {
     "name": "stderr",
     "output_type": "stream",
     "text": [
      " 56%|████████████████████████████████████████████████████████████████████████████████████████████████▋                                                                             | 15/27 [00:12<00:08,  1.45it/s]"
     ]
    },
    {
     "name": "stdout",
     "output_type": "stream",
     "text": [
      "rearview_rear_window\n"
     ]
    },
    {
     "name": "stderr",
     "output_type": "stream",
     "text": [
      " 59%|███████████████████████████████████████████████████████████████████████████████████████████████████████                                                                       | 16/27 [00:14<00:09,  1.19it/s]"
     ]
    },
    {
     "name": "stdout",
     "output_type": "stream",
     "text": [
      "rearview_side_panel\n"
     ]
    },
    {
     "name": "stderr",
     "output_type": "stream",
     "text": [
      " 63%|█████████████████████████████████████████████████████████████████████████████████████████████████████████████▌                                                                | 17/27 [00:15<00:10,  1.07s/it]"
     ]
    },
    {
     "name": "stdout",
     "output_type": "stream",
     "text": [
      "rearview_taillight\n"
     ]
    },
    {
     "name": "stderr",
     "output_type": "stream",
     "text": [
      " 67%|████████████████████████████████████████████████████████████████████████████████████████████████████████████████████                                                          | 18/27 [00:15<00:07,  1.21it/s]"
     ]
    },
    {
     "name": "stdout",
     "output_type": "stream",
     "text": [
      "rearview_trunk_lid_center\n"
     ]
    },
    {
     "name": "stderr",
     "output_type": "stream",
     "text": [
      " 74%|████████████████████████████████████████████████████████████████████████████████████████████████████████████████████████████████▉                                             | 20/27 [00:17<00:04,  1.43it/s]"
     ]
    },
    {
     "name": "stdout",
     "output_type": "stream",
     "text": [
      "rearview_trunk_lid_side\n",
      "sideview_fender\n",
      "sideview_front_bumper\n"
     ]
    },
    {
     "name": "stderr",
     "output_type": "stream",
     "text": [
      " 93%|█████████████████████████████████████████████████████████████████████████████████████████████████████████████████████████████████████████████████████████████████             | 25/27 [00:17<00:00,  4.21it/s]"
     ]
    },
    {
     "name": "stdout",
     "output_type": "stream",
     "text": [
      "sideview_front_door_center\n",
      "sideview_headlight\n",
      "sideview_hood\n",
      "sideview_mirror_center\n"
     ]
    },
    {
     "name": "stderr",
     "output_type": "stream",
     "text": [
      "100%|██████████████████████████████████████████████████████████████████████████████████████████████████████████████████████████████████████████████████████████████████████████████| 27/27 [00:17<00:00,  1.50it/s]"
     ]
    },
    {
     "name": "stdout",
     "output_type": "stream",
     "text": [
      "sideview_rear_door_center\n",
      "sideview_side_panel\n"
     ]
    },
    {
     "name": "stderr",
     "output_type": "stream",
     "text": [
      "\n"
     ]
    }
   ],
   "source": [
    "for key in tqdm(dic_t.keys()):\n",
    "    group_name = key # ANGULO DAS IMAGENS\n",
    "    \n",
    "    group_df = pd.DataFrame(dic_t[group_name])\n",
    "    group_df = group_df.loc[group_df.final_damage.notnull()]\n",
    "    group_df.loc[group_df.split == 'train',['split']] = np.random.choice(['train', 'val'], size=group_df.loc[group_df.split == 'train'].shape[0], p=[.8, .2])\n",
    "    group_df.path = group_df.path.apply(lambda x: x.replace('/oficial-datasets/','/04-dmg_classification_2023/'))\n",
    "    \n",
    "    csv_path = '../csvs/datasets/'+group_name+'.csv'\n",
    "    filepath = Path(csv_path)  \n",
    "    filepath.parent.mkdir(parents=True, exist_ok=True)  \n",
    "    group_df.to_csv(filepath)\n",
    "    print(key)\n",
    "    "
   ]
  },
  {
   "cell_type": "markdown",
   "id": "7ac89fd4-b689-40f0-82e9-58a766331874",
   "metadata": {},
   "source": [
    "Tentativa de fazer o dataset funcionar\n"
   ]
  },
  {
   "cell_type": "code",
   "execution_count": 115,
   "id": "2e631348-0341-4e91-91aa-1640210afc0e",
   "metadata": {},
   "outputs": [],
   "source": [
    "dic_test = pd.read_pickle(\"/.pkl\")"
   ]
  },
  {
   "cell_type": "code",
   "execution_count": 118,
   "id": "178b81ad-f9af-4ee9-87e3-8cde47e7d0b9",
   "metadata": {},
   "outputs": [],
   "source": [
    "group_name = \"rearview_rear_door\"\n",
    "\n",
    "test_df = pd.DataFrame(dic_test[group_name])\n",
    "test_df = test_df.loc[test_df.final_damage.notnull()]"
   ]
  },
  {
   "cell_type": "code",
   "execution_count": 120,
   "id": "97a52fcb-5890-4670-a7e6-ad6fa24c47bb",
   "metadata": {},
   "outputs": [],
   "source": [
    "test_df.loc[test_df.split == 'train',['split']] = np.random.choice(['train', 'val'], size=test_df.loc[test_df.split == 'train'].shape[0], p=[.8, .2])"
   ]
  },
  {
   "cell_type": "code",
   "execution_count": 121,
   "id": "1395bb20-9640-45f7-9cce-f81657634829",
   "metadata": {},
   "outputs": [
    {
     "data": {
      "text/plain": [
       "train    85305\n",
       "val      21270\n",
       "test     10074\n",
       "Name: split, dtype: int64"
      ]
     },
     "execution_count": 121,
     "metadata": {},
     "output_type": "execute_result"
    }
   ],
   "source": [
    "test_df.split.value_counts()"
   ]
  },
  {
   "cell_type": "code",
   "execution_count": 14,
   "id": "bf903fa4-5d2b-4279-a88f-283ee139ccdb",
   "metadata": {},
   "outputs": [
    {
     "ename": "NameError",
     "evalue": "name 'test_df' is not defined",
     "output_type": "error",
     "traceback": [
      "\u001b[0;31m---------------------------------------------------------------------------\u001b[0m",
      "\u001b[0;31mNameError\u001b[0m                                 Traceback (most recent call last)",
      "Input \u001b[0;32mIn [14]\u001b[0m, in \u001b[0;36m<cell line: 1>\u001b[0;34m()\u001b[0m\n\u001b[0;32m----> 1\u001b[0m \u001b[43mtest_df\u001b[49m\n",
      "\u001b[0;31mNameError\u001b[0m: name 'test_df' is not defined"
     ]
    }
   ],
   "source": [
    "test_df"
   ]
  },
  {
   "cell_type": "code",
   "execution_count": 90,
   "id": "87dd7b70-e022-449f-b270-9a5959d4a9c7",
   "metadata": {},
   "outputs": [],
   "source": [
    "path = f'../csvs/datasets/{group_name}.csv'\n",
    "filepath = Path(path)  \n",
    "filepath.parent.mkdir(parents=True, exist_ok=True)  \n",
    "test_df.to_csv(filepath)"
   ]
  }
 ],
 "metadata": {
  "kernelspec": {
   "display_name": "Python 3 (ipykernel)",
   "language": "python",
   "name": "python3"
  },
  "language_info": {
   "codemirror_mode": {
    "name": "ipython",
    "version": 3
   },
   "file_extension": ".py",
   "mimetype": "text/x-python",
   "name": "python",
   "nbconvert_exporter": "python",
   "pygments_lexer": "ipython3",
   "version": "3.10.6"
  }
 },
 "nbformat": 4,
 "nbformat_minor": 5
}
